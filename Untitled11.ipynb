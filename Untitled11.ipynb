{
 "cells": [
  {
   "cell_type": "code",
   "execution_count": 41,
   "id": "9460bea8-3a44-4930-88ec-af3d29b28567",
   "metadata": {
    "collapsed": true,
    "jupyter": {
     "outputs_hidden": true
    },
    "tags": []
   },
   "outputs": [
    {
     "name": "stdout",
     "output_type": "stream",
     "text": [
      "Title: Daytime Moon Meets Morning Star\n",
      "Explanation: Venus now appears as Earth's brilliant morning star, shining above the southeastern horizon before dawn. For early morning risers, the silvery celestial beacon rose predawn in a close pairing with a waning crescent Moon on Thursday, November 9. But from some northern locations, the Moon was seen to occult or pass in front of Venus. From much of Europe, the lunar occultation could be viewed in daylight skies. This time series composite follows the daytime approach of Moon and morning star in blue skies from Warsaw, Poland. The progression of eight sharp telescopic snapshots, made between 10:56am and 10:58am local time, runs from left to right, when Venus winked out behind the bright lunar limb.\n"
     ]
    },
    {
     "data": {
      "text/html": [
       "<img src=\"https://apod.nasa.gov/apod/image/2311/Katarzyna20_1024.jpg\"/>"
      ],
      "text/plain": [
       "<IPython.core.display.Image object>"
      ]
     },
     "metadata": {},
     "output_type": "display_data"
    }
   ],
   "source": [
    "import requests\n",
    "from IPython.display import Image, display\n",
    "import pandas as pd\n",
    "\n",
    "# My API key\n",
    "api_key = '3rKTrLjNIMrpWPVDWkF25dOKftRab89RJ7IMOwBX'\n",
    "\n",
    "# Define the API endpoint for APOD\n",
    "apod_url = f'https://api.nasa.gov/planetary/apod?api_key={api_key}'\n",
    "\n",
    "# Make the API request\n",
    "response = requests.get(apod_url)\n",
    "\n",
    "# Check if the request was successful (status code 200)\n",
    "if response.status_code == 200:\n",
    "    # Convert the response to JSON format\n",
    "    apod_data = response.json()\n",
    "\n",
    "    # Print the title and explanation of the APOD\n",
    "    print(f'Title: {apod_data[\"title\"]}')\n",
    "    print(f'Explanation: {apod_data[\"explanation\"]}')\n",
    "\n",
    "    # Display the image\n",
    "    display(Image(url=apod_data[\"url\"]))\n",
    "else:\n",
    "    print(f'Error: {response.status_code}')\n"
   ]
  },
  {
   "cell_type": "code",
   "execution_count": 42,
   "id": "8bb43d09-a677-425c-b3e8-44a01b44154e",
   "metadata": {
    "tags": []
   },
   "outputs": [],
   "source": [
    "# Define the API endpoint for Asteroids\n",
    "Asteroids_url = f'https://api.nasa.gov/neo/rest/v1/feed?start_date=2023-09-07&end_date=2023-09-08&api_key={api_key}'\n",
    "\n",
    "# Make the API request\n",
    "response = requests.get(Asteroids_url)\n",
    "\n",
    "# Check if the request was successful (status code 200)\n",
    "if response.status_code == 200:\n",
    "    # Convert the response to JSON format\n",
    "    Asteroids_data = response.json()\n",
    "\n",
    "    # Create a pandas DataFrame\n",
    "    df_asteroids = pd.DataFrame(Asteroids_data['near_earth_objects']['2023-09-07'])\n",
    "    \n",
    "else:\n",
    "    print(f'Error: {response.status_code}')\n"
   ]
  },
  {
   "cell_type": "code",
   "execution_count": 38,
   "id": "d9e798f8-e7fe-4bcb-bb8d-450cae5caa02",
   "metadata": {
    "tags": []
   },
   "outputs": [],
   "source": [
    "# Drop some columns\n",
    "columns_to_drop = ['links', 'neo_reference_id', 'nasa_jpl_url', 'is_potentially_hazardous_asteroid', 'close_approach_data', 'is_sentry_object']\n",
    "df_asteroids = df_asteroids.drop(columns=columns_to_drop, errors='ignore')\n",
    "\n",
    "# Select and rename columns\n",
    "asteroids_df_clean = df_asteroids[['id', 'name', 'estimated_diameter', 'absolute_magnitude_h']].copy()\n",
    "asteroids_df_clean.columns = ['Asteroid ID', 'Asteroid name', 'Minimal estimated diameter in Kilometre', 'Absolute_magnitude']\n"
   ]
  },
  {
   "cell_type": "code",
   "execution_count": 39,
   "id": "6b4415f9-b7f8-4c91-8ae0-24daa63fb666",
   "metadata": {
    "tags": []
   },
   "outputs": [
    {
     "data": {
      "text/html": [
       "<div>\n",
       "<style scoped>\n",
       "    .dataframe tbody tr th:only-of-type {\n",
       "        vertical-align: middle;\n",
       "    }\n",
       "\n",
       "    .dataframe tbody tr th {\n",
       "        vertical-align: top;\n",
       "    }\n",
       "\n",
       "    .dataframe thead th {\n",
       "        text-align: right;\n",
       "    }\n",
       "</style>\n",
       "<table border=\"1\" class=\"dataframe\">\n",
       "  <thead>\n",
       "    <tr style=\"text-align: right;\">\n",
       "      <th></th>\n",
       "      <th>Asteroid ID</th>\n",
       "      <th>Asteroid name</th>\n",
       "      <th>Minimal estimated diameter in Kilometre</th>\n",
       "      <th>Absolute_magnitude</th>\n",
       "    </tr>\n",
       "  </thead>\n",
       "  <tbody>\n",
       "    <tr>\n",
       "      <th>0</th>\n",
       "      <td>2416151</td>\n",
       "      <td>416151 (2002 RQ25)</td>\n",
       "      <td>{'kilometers': {'estimated_diameter_min': 0.19...</td>\n",
       "      <td>20.68</td>\n",
       "    </tr>\n",
       "    <tr>\n",
       "      <th>1</th>\n",
       "      <td>2523685</td>\n",
       "      <td>523685 (2014 DN112)</td>\n",
       "      <td>{'kilometers': {'estimated_diameter_min': 0.26...</td>\n",
       "      <td>20.04</td>\n",
       "    </tr>\n",
       "    <tr>\n",
       "      <th>2</th>\n",
       "      <td>2523950</td>\n",
       "      <td>523950 (1998 SZ27)</td>\n",
       "      <td>{'kilometers': {'estimated_diameter_min': 0.23...</td>\n",
       "      <td>20.30</td>\n",
       "    </tr>\n",
       "    <tr>\n",
       "      <th>3</th>\n",
       "      <td>3309828</td>\n",
       "      <td>(2005 YQ96)</td>\n",
       "      <td>{'kilometers': {'estimated_diameter_min': 0.19...</td>\n",
       "      <td>20.62</td>\n",
       "    </tr>\n",
       "    <tr>\n",
       "      <th>4</th>\n",
       "      <td>3338034</td>\n",
       "      <td>(2006 QE)</td>\n",
       "      <td>{'kilometers': {'estimated_diameter_min': 0.30...</td>\n",
       "      <td>19.72</td>\n",
       "    </tr>\n",
       "    <tr>\n",
       "      <th>5</th>\n",
       "      <td>3695919</td>\n",
       "      <td>(2014 VG2)</td>\n",
       "      <td>{'kilometers': {'estimated_diameter_min': 0.07...</td>\n",
       "      <td>22.72</td>\n",
       "    </tr>\n",
       "    <tr>\n",
       "      <th>6</th>\n",
       "      <td>3730580</td>\n",
       "      <td>(2015 TY237)</td>\n",
       "      <td>{'kilometers': {'estimated_diameter_min': 0.12...</td>\n",
       "      <td>21.58</td>\n",
       "    </tr>\n",
       "    <tr>\n",
       "      <th>7</th>\n",
       "      <td>3735467</td>\n",
       "      <td>(2015 WX1)</td>\n",
       "      <td>{'kilometers': {'estimated_diameter_min': 0.05...</td>\n",
       "      <td>23.45</td>\n",
       "    </tr>\n",
       "    <tr>\n",
       "      <th>8</th>\n",
       "      <td>3838859</td>\n",
       "      <td>(2019 DJ1)</td>\n",
       "      <td>{'kilometers': {'estimated_diameter_min': 0.01...</td>\n",
       "      <td>26.80</td>\n",
       "    </tr>\n",
       "    <tr>\n",
       "      <th>9</th>\n",
       "      <td>2613286</td>\n",
       "      <td>613286 (2005 YQ96)</td>\n",
       "      <td>{'kilometers': {'estimated_diameter_min': 0.19...</td>\n",
       "      <td>20.62</td>\n",
       "    </tr>\n",
       "    <tr>\n",
       "      <th>10</th>\n",
       "      <td>54297618</td>\n",
       "      <td>(2022 QK4)</td>\n",
       "      <td>{'kilometers': {'estimated_diameter_min': 0.04...</td>\n",
       "      <td>23.79</td>\n",
       "    </tr>\n",
       "    <tr>\n",
       "      <th>11</th>\n",
       "      <td>54356031</td>\n",
       "      <td>(2023 HT3)</td>\n",
       "      <td>{'kilometers': {'estimated_diameter_min': 0.04...</td>\n",
       "      <td>24.05</td>\n",
       "    </tr>\n",
       "  </tbody>\n",
       "</table>\n",
       "</div>"
      ],
      "text/plain": [
       "   Asteroid ID        Asteroid name  \\\n",
       "0      2416151   416151 (2002 RQ25)   \n",
       "1      2523685  523685 (2014 DN112)   \n",
       "2      2523950   523950 (1998 SZ27)   \n",
       "3      3309828          (2005 YQ96)   \n",
       "4      3338034            (2006 QE)   \n",
       "5      3695919           (2014 VG2)   \n",
       "6      3730580         (2015 TY237)   \n",
       "7      3735467           (2015 WX1)   \n",
       "8      3838859           (2019 DJ1)   \n",
       "9      2613286   613286 (2005 YQ96)   \n",
       "10    54297618           (2022 QK4)   \n",
       "11    54356031           (2023 HT3)   \n",
       "\n",
       "              Minimal estimated diameter in Kilometre  Absolute_magnitude  \n",
       "0   {'kilometers': {'estimated_diameter_min': 0.19...               20.68  \n",
       "1   {'kilometers': {'estimated_diameter_min': 0.26...               20.04  \n",
       "2   {'kilometers': {'estimated_diameter_min': 0.23...               20.30  \n",
       "3   {'kilometers': {'estimated_diameter_min': 0.19...               20.62  \n",
       "4   {'kilometers': {'estimated_diameter_min': 0.30...               19.72  \n",
       "5   {'kilometers': {'estimated_diameter_min': 0.07...               22.72  \n",
       "6   {'kilometers': {'estimated_diameter_min': 0.12...               21.58  \n",
       "7   {'kilometers': {'estimated_diameter_min': 0.05...               23.45  \n",
       "8   {'kilometers': {'estimated_diameter_min': 0.01...               26.80  \n",
       "9   {'kilometers': {'estimated_diameter_min': 0.19...               20.62  \n",
       "10  {'kilometers': {'estimated_diameter_min': 0.04...               23.79  \n",
       "11  {'kilometers': {'estimated_diameter_min': 0.04...               24.05  "
      ]
     },
     "execution_count": 39,
     "metadata": {},
     "output_type": "execute_result"
    }
   ],
   "source": [
    "asteroids_df_clean"
   ]
  },
  {
   "cell_type": "code",
   "execution_count": 44,
   "id": "2a030c3f-d047-4194-9000-ffe93306208c",
   "metadata": {
    "tags": []
   },
   "outputs": [
    {
     "name": "stdout",
     "output_type": "stream",
     "text": [
      "Relative velocity information not found.\n"
     ]
    }
   ],
   "source": [
    "# Extract necessary information\n",
    "speed_info = Asteroids_data.get(\"speed_info\", None)  # Replace with the actual key\n",
    "\n",
    "# Check if the information is available\n",
    "if speed_info is not None:\n",
    "    # Assuming speed_info is a dictionary with relevant keys\n",
    "    relative_velocity_km_s = speed_info.get(\"velocity\", 0)  # Replace with the actual key\n",
    "\n",
    "    # Add the new column to the DataFrame\n",
    "    print(\"Relative velocity information not found.\")\n",
    "    asteroids_df_clean['Relative_velocity(km/s)'] = relative_velocity_km_s\n",
    "else:\n",
    "    # Handle the case where the information is not available\n",
    "    print(\"Relative velocity information not found.\")\n"
   ]
  },
  {
   "cell_type": "code",
   "execution_count": 45,
   "id": "f1b88d10-46c7-4698-9d5a-a14f0eba86d3",
   "metadata": {
    "tags": []
   },
   "outputs": [],
   "source": [
    "# Export the clean DataFrame to CSV\n",
    "asteroids_df_clean.to_csv('API to Pandas Dataframe checkpoint.csv', index=False)\n"
   ]
  },
  {
   "cell_type": "code",
   "execution_count": null,
   "id": "d6a5593d-59aa-4d64-abe6-08e47a4577c5",
   "metadata": {},
   "outputs": [],
   "source": []
  }
 ],
 "metadata": {
  "kernelspec": {
   "display_name": "Python 3 (ipykernel)",
   "language": "python",
   "name": "python3"
  },
  "language_info": {
   "codemirror_mode": {
    "name": "ipython",
    "version": 3
   },
   "file_extension": ".py",
   "mimetype": "text/x-python",
   "name": "python",
   "nbconvert_exporter": "python",
   "pygments_lexer": "ipython3",
   "version": "3.11.5"
  }
 },
 "nbformat": 4,
 "nbformat_minor": 5
}
